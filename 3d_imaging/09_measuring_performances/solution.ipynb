{
 "cells": [
  {
   "cell_type": "code",
   "execution_count": 1,
   "metadata": {},
   "outputs": [],
   "source": [
    "import numpy as np\n",
    "import nibabel as nib"
   ]
  },
  {
   "cell_type": "code",
   "execution_count": 2,
   "metadata": {},
   "outputs": [],
   "source": [
    "lbl1 = nib.load(\"data/spleen1_label_auto.nii.gz\").get_fdata()\n",
    "lbl2 = nib.load(\"data/spleen1_label_gt.nii.gz\").get_fdata()"
   ]
  },
  {
   "cell_type": "code",
   "execution_count": 3,
   "metadata": {},
   "outputs": [
    {
     "name": "stdout",
     "output_type": "stream",
     "text": [
      "DSC: 0.8868933957589895\n"
     ]
    }
   ],
   "source": [
    "def dsc3d(a,b):\n",
    "    intersection = np.sum(a*b)\n",
    "    volumes = np.sum(a) + np.sum(b)\n",
    "\n",
    "    if volumes == 0:\n",
    "        return -1\n",
    "\n",
    "    return 2.*float(intersection) / float(volumes)\n",
    "\n",
    "print(f\"DSC: {dsc3d(lbl1, lbl2)}\")"
   ]
  },
  {
   "cell_type": "code",
   "execution_count": 4,
   "metadata": {},
   "outputs": [
    {
     "name": "stdout",
     "output_type": "stream",
     "text": [
      "Sensitivity: 0.872568136009114\n"
     ]
    }
   ],
   "source": [
    "def sensitivity(gt,pred):\n",
    "    # Sens = TP/(TP+FN)\n",
    "    tp = np.sum(gt[gt==pred])\n",
    "    fn = np.sum(gt[gt!=pred])\n",
    "\n",
    "    if fn+tp == 0:\n",
    "        return -1\n",
    "\n",
    "    return (tp)/(fn+tp)\n",
    "\n",
    "print(f\"Sensitivity: {sensitivity(lbl1, lbl2)}\")"
   ]
  }
 ],
 "metadata": {
  "kernelspec": {
   "display_name": "myenv",
   "language": "python",
   "name": "myenv"
  },
  "language_info": {
   "codemirror_mode": {
    "name": "ipython",
    "version": 3
   },
   "file_extension": ".py",
   "mimetype": "text/x-python",
   "name": "python",
   "nbconvert_exporter": "python",
   "pygments_lexer": "ipython3",
   "version": "3.8.0"
  }
 },
 "nbformat": 4,
 "nbformat_minor": 4
}
