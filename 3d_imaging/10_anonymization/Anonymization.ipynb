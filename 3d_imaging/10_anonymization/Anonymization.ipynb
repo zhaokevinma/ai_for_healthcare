{
 "cells": [
  {
   "cell_type": "markdown",
   "metadata": {},
   "source": [
    "# Anonymizing DICOM\n",
    "\n",
    "In this exercise you will try your hand at anonymizing a DICOM series. It is very important to understand what is involved in anonymization and how it is done if you are planning to do any research projects with real clnical data. Either you will need to agree with the data owner on what the anonymization protocol is, or you will be dealing with data that passed such protocol. As always, understanding your data helps you build better machine learning algorithms.\n",
    "\n",
    "You will find the series in a directory called `data`. By the way, that is an image of my own knee MRI that is coming directly from a scanner, with minimal editing. Among other things HIPAA guarantees patients access to their own data and lets them share the data as they see fit.  \n",
    "\n",
    "For this exercise, imagine that you are starting a joint research project with a hospital and they have given you a sample image series to agree on anonymiaztion protocol for their data. You will need to come up with one before you see any further data.\n",
    "\n",
    "In this notebook, I will guide you through a thought process for approaching such task, and have you perform the actual de-identification of DICOM metadata (note that there is also a lot that could be done with pixels, but we leave it outside the scope of this exercise). \n",
    "\n",
    "Keep in mind that anonymization process is always a balance between reducing chances of re-identification to a reasonable minimum and keeping the dataset useful for your research purposes.  \n",
    "\n",
    "Another important disclaimer - while it is very useful to understand what exactly is involved in anonymization so that you can nail this balance perfectly, it is always a good idea to evaluate existing de-identification libraries for your task first.\n",
    "\n",
    "Since we will be relying on PyDicom here, it's good to keep the reference handy: https://pydicom.github.io/pydicom/stable/tutorials/dataset_basics.html"
   ]
  },
  {
   "cell_type": "code",
   "execution_count": 1,
   "metadata": {},
   "outputs": [],
   "source": [
    "import pydicom\n",
    "import os"
   ]
  },
  {
   "cell_type": "code",
   "execution_count": 2,
   "metadata": {},
   "outputs": [],
   "source": [
    "path = \"data/KneeMr\"\n",
    "dcm = [pydicom.dcmread(os.path.join(path, f)) for f in os.listdir(path)]"
   ]
  },
  {
   "cell_type": "code",
   "execution_count": 3,
   "metadata": {},
   "outputs": [
    {
     "data": {
      "text/plain": [
       "36"
      ]
     },
     "execution_count": 3,
     "metadata": {},
     "output_type": "execute_result"
    }
   ],
   "source": [
    "len(dcm)"
   ]
  },
  {
   "cell_type": "markdown",
   "metadata": {},
   "source": [
    "Great, we have series with 36 slices. Let's print metadata from one of those"
   ]
  },
  {
   "cell_type": "code",
   "execution_count": 4,
   "metadata": {},
   "outputs": [
    {
     "data": {
      "text/plain": [
       "(0008, 0005) Specific Character Set              CS: 'ISO_IR 100'\n",
       "(0008, 0008) Image Type                          CS: ['ORIGINAL', 'PRIMARY', 'M', 'ND']\n",
       "(0008, 0012) Instance Creation Date              DA: '20150116'\n",
       "(0008, 0013) Instance Creation Time              TM: '160254.921000'\n",
       "(0008, 0016) SOP Class UID                       UI: MR Image Storage\n",
       "(0008, 0018) SOP Instance UID                    UI: 1.3.12.2.1107.5.2.33.37105.2015011616025381599128219\n",
       "(0008, 0020) Study Date                          DA: '20150116'\n",
       "(0008, 0021) Series Date                         DA: '20150116'\n",
       "(0008, 0022) Acquisition Date                    DA: '20150116'\n",
       "(0008, 0023) Content Date                        DA: '20150116'\n",
       "(0008, 0030) Study Time                          TM: '154708'\n",
       "(0008, 0031) Series Time                         TM: '160254.859000'\n",
       "(0008, 0032) Acquisition Time                    TM: '160007.545000'\n",
       "(0008, 0033) Content Time                        TM: '160254.921000'\n",
       "(0008, 0050) Accession Number                    SH: 'OPA5311210'\n",
       "(0008, 0060) Modality                            CS: 'MR'\n",
       "(0008, 0070) Manufacturer                        LO: 'SIEMENS'\n",
       "(0008, 0080) Institution Name                    LO: 'Orthopedic Physicians Associates'\n",
       "(0008, 0081) Institution Address                 ST: 'Street 900  terry ave,-e7dea1-,Seattle,US,98004'\n",
       "(0008, 0090) Referring Physician's Name          PN: 'Kermit^Frog'\n",
       "(0008, 1010) Station Name                        SH: 'MRC37975'\n",
       "(0008, 1030) Study Description                   LO: 'LOWER_EXT_LT^KNEE'\n",
       "(0008, 103e) Series Description                  LO: 'sag pd'\n",
       "(0008, 1040) Institutional Department Name       LO: 'Department'\n",
       "(0008, 1050) Performing Physician's Name         PN: ''\n",
       "(0008, 1070) Operators' Name                     PN: 'DL'\n",
       "(0008, 1090) Manufacturer's Model Name           LO: 'SymphonyTim'\n",
       "(0008, 1140)  Referenced Image Sequence   3 item(s) ---- \n",
       "   (0008, 1150) Referenced SOP Class UID            UI: MR Image Storage\n",
       "   (0008, 1155) Referenced SOP Instance UID         UI: 1.3.12.2.1107.5.2.33.37105.2015011615552742739527742\n",
       "   ---------\n",
       "   (0008, 1150) Referenced SOP Class UID            UI: MR Image Storage\n",
       "   (0008, 1155) Referenced SOP Instance UID         UI: 1.3.12.2.1107.5.2.33.37105.2015011615521681905527595\n",
       "   ---------\n",
       "   (0008, 1150) Referenced SOP Class UID            UI: MR Image Storage\n",
       "   (0008, 1155) Referenced SOP Instance UID         UI: 1.3.12.2.1107.5.2.33.37105.2015011615480124474327151\n",
       "   ---------\n",
       "(0009, 0010) Private Creator                     LO: 'SECTRA_Ident_01'\n",
       "(0009, 1001) [Request number]                    LO: 'OPA5311210'\n",
       "(0009, 1002) [Examination number]                LO: '0'\n",
       "(0010, 0010) Patient's Name                      PN: 'Tarapov, Ivan'\n",
       "(0010, 0020) Patient ID                          LO: 'OPA135179'\n",
       "(0010, 0021) Issuer of Patient ID                LO: '63036410-3E0D-4042-A7A8-7C869C269928'\n",
       "(0010, 0030) Patient's Birth Date                DA: '19550101'\n",
       "(0010, 0040) Patient's Sex                       CS: 'M'\n",
       "(0010, 1010) Patient's Age                       AS: '070Y'\n",
       "(0010, 1030) Patient's Weight                    DS: \"102.0582962325\"\n",
       "(0018, 0010) Contrast/Bolus Agent                LO: 'MAGNEVIST'\n",
       "(0018, 0020) Scanning Sequence                   CS: 'SE'\n",
       "(0018, 0021) Sequence Variant                    CS: ['SK', 'SP', 'OSP']\n",
       "(0018, 0022) Scan Options                        CS: ''\n",
       "(0018, 0023) MR Acquisition Type                 CS: '2D'\n",
       "(0018, 0024) Sequence Name                       SH: '*tse2d1_9'\n",
       "(0018, 0025) Angio Flag                          CS: 'N'\n",
       "(0018, 0050) Slice Thickness                     DS: \"3.0\"\n",
       "(0018, 0080) Repetition Time                     DS: \"3360.0\"\n",
       "(0018, 0081) Echo Time                           DS: \"28.0\"\n",
       "(0018, 0083) Number of Averages                  DS: \"2.0\"\n",
       "(0018, 0084) Imaging Frequency                   DS: \"63.684576\"\n",
       "(0018, 0085) Imaged Nucleus                      SH: '1H'\n",
       "(0018, 0086) Echo Number(s)                      IS: \"1\"\n",
       "(0018, 0087) Magnetic Field Strength             DS: \"1.5\"\n",
       "(0018, 0088) Spacing Between Slices              DS: \"3.0\"\n",
       "(0018, 0089) Number of Phase Encoding Steps      IS: \"432\"\n",
       "(0018, 0091) Echo Train Length                   IS: \"9\"\n",
       "(0018, 0093) Percent Sampling                    DS: \"56.0\"\n",
       "(0018, 0094) Percent Phase Field of View         DS: \"100.0\"\n",
       "(0018, 0095) Pixel Bandwidth                     DS: \"203.0\"\n",
       "(0018, 1000) Device Serial Number                LO: '37105'\n",
       "(0018, 1020) Software Versions                   LO: 'syngo MR B19'\n",
       "(0018, 1030) Protocol Name                       LO: 'sag pd'\n",
       "(0018, 1041) Contrast/Bolus Volume               DS: \"0.0\"\n",
       "(0018, 1044) Contrast/Bolus Total Dose           DS: \"0.0\"\n",
       "(0018, 1048) Contrast/Bolus Ingredient           CS: ''\n",
       "(0018, 1049) Contrast/Bolus Ingredient Concentra DS: \"0.0\"\n",
       "(0018, 1251) Transmit Coil Name                  SH: 'TxRx_15Ch_Knee'\n",
       "(0018, 1310) Acquisition Matrix                  US: [448, 0, 0, 251]\n",
       "(0018, 1312) In-plane Phase Encoding Direction   CS: 'COL'\n",
       "(0018, 1314) Flip Angle                          DS: \"150.0\"\n",
       "(0018, 1315) Variable Flip Angle Flag            CS: 'N'\n",
       "(0018, 1316) SAR                                 DS: \"0.14202974492303\"\n",
       "(0018, 1318) dB/dt                               DS: \"0.0\"\n",
       "(0018, 5100) Patient Position                    CS: 'FFS'\n",
       "(0019, 0010) Private Creator                     LO: 'SIEMENS MR HEADER'\n",
       "(0019, 1008) [CSA Image Header Type]             CS: 'IMAGE NUM 4'\n",
       "(0019, 1009) [CSA Image Header Version ??]       LO: '1.0'\n",
       "(0019, 100b) [SliceMeasurementDuration]          DS: \"158630.0\"\n",
       "(0019, 100f) [GradientMode]                      SH: 'Fast'\n",
       "(0019, 1011) [FlowCompensation]                  SH: 'No'\n",
       "(0019, 1012) [TablePositionOrigin]               SL: [0, 0, -1575]\n",
       "(0019, 1013) [ImaAbsTablePosition]               SL: [0, 0, -1575]\n",
       "(0019, 1014) [ImaRelTablePosition]               IS: [0, 0, 0]\n",
       "(0019, 1015) [SlicePosition_PCS]                 FD: [24.45030424, -131.3506508, 66.1587072]\n",
       "(0019, 1017) [SliceResolution]                   DS: \"1.0\"\n",
       "(0019, 1018) [RealDwellTime]                     IS: \"5500\"\n",
       "(0020, 000d) Study Instance UID                  UI: 1.2.752.24.7.1550985044.2753616\n",
       "(0020, 000e) Series Instance UID                 UI: 1.3.12.2.1107.5.2.33.37105.2015011616025092819028166.0.0.0\n",
       "(0020, 0010) Study ID                            SH: '0'\n",
       "(0020, 0011) Series Number                       IS: \"6\"\n",
       "(0020, 0012) Acquisition Number                  IS: \"1\"\n",
       "(0020, 0013) Instance Number                     IS: \"22\"\n",
       "(0020, 0032) Image Position (Patient)            DS: [24.450304241373, -131.35065080219, 66.158707202253]\n",
       "(0020, 0037) Image Orientation (Patient)         DS: [-0.0430110939711, 0.99771247420803, 0.0521523211862, 0.08149591835913, 0.0555303613113, -0.9951255168387]\n",
       "(0020, 0052) Frame of Reference UID              UI: 1.3.12.2.1107.5.2.33.37105.1.20150116154708828.0.0.0\n",
       "(0020, 1040) Position Reference Indicator        LO: ''\n",
       "(0020, 1041) Slice Location                      DS: \"24.81988856932\"\n",
       "(0028, 0002) Samples per Pixel                   US: 1\n",
       "(0028, 0004) Photometric Interpretation          CS: 'MONOCHROME2'\n",
       "(0028, 0010) Rows                                US: 448\n",
       "(0028, 0011) Columns                             US: 448\n",
       "(0028, 0030) Pixel Spacing                       DS: [0.3348214328289, 0.3348214328289]\n",
       "(0028, 0100) Bits Allocated                      US: 16\n",
       "(0028, 0101) Bits Stored                         US: 12\n",
       "(0028, 0102) High Bit                            US: 11\n",
       "(0028, 0103) Pixel Representation                US: 0\n",
       "(0028, 0106) Smallest Image Pixel Value          US: 0\n",
       "(0028, 0107) Largest Image Pixel Value           US: 3229\n",
       "(0028, 1050) Window Center                       DS: \"1067.0\"\n",
       "(0028, 1051) Window Width                        DS: \"2089.0\"\n",
       "(0028, 1055) Window Center & Width Explanation   LO: 'Algo1'\n",
       "(0029, 0010) Private Creator                     LO: 'SIEMENS CSA HEADER'\n",
       "(0029, 0011) Private Creator                     LO: 'SIEMENS MEDCOM HEADER2'\n",
       "(0029, 1008) [CSA Image Header Type]             CS: 'IMAGE NUM 4'\n",
       "(0029, 1009) [CSA Image Header Version]          LO: '20150116'\n",
       "(0029, 1010) [CSA Image Header Info]             OB: Array of 9456 elements\n",
       "(0029, 1018) [CSA Series Header Type]            CS: 'MR'\n",
       "(0029, 1019) [CSA Series Header Version]         LO: '20150116'\n",
       "(0029, 1020) [CSA Series Header Info]            OB: Array of 82804 elements\n",
       "(0029, 1160) [Series Workflow Status]            LO: 'com'\n",
       "(0040, 0244) Performed Procedure Step Start Date DA: '20150116'\n",
       "(0040, 0245) Performed Procedure Step Start Time TM: '154708.781000'\n",
       "(0040, 0253) Performed Procedure Step ID         SH: '0'\n",
       "(0040, 0275)  Request Attributes Sequence   1 item(s) ---- \n",
       "   (0040, 0009) Scheduled Procedure Step ID         SH: '0'\n",
       "   (0040, 1001) Requested Procedure ID              SH: '0'\n",
       "   ---------\n",
       "(0051, 0010) Private Creator                     LO: 'SIEMENS MR HEADER'\n",
       "(0051, 1008) [CSA Image Header Type]             CS: 'IMAGE NUM 4'\n",
       "(0051, 1009) [CSA Image Header Version ??]       LO: '1.0'\n",
       "(0051, 100a) [Unknown]                           LO: 'TA 02:38'\n",
       "(0051, 100b) [AcquisitionMatrixText]             LO: '251*448s'\n",
       "(0051, 100c) [Unknown]                           LO: 'FoV 150*150'\n",
       "(0051, 100d) [Unknown]                           SH: 'SP L24.8'\n",
       "(0051, 100e) [Unknown]                           LO: 'Sag>Tra(-4.8)>Cor(-2.2)'\n",
       "(0051, 100f) [CoilString]                        LO: 'C:K15'\n",
       "(0051, 1011) [PATModeText]                       LO: 'p2'\n",
       "(0051, 1012) [Unknown]                           SH: 'TP 0'\n",
       "(0051, 1013) [PositivePCSDirections]             SH: '+LPH'\n",
       "(0051, 1015) [Unknown]                           SH: 'E'\n",
       "(0051, 1016) [Unknown]                           LO: 'p2 M/ND'\n",
       "(0051, 1017) [Unknown]                           SH: 'SL 3.0'\n",
       "(0051, 1019) [Unknown]                           LO: 'A2'\n",
       "(7fe0, 0010) Pixel Data                          OW: Array of 401408 elements"
      ]
     },
     "execution_count": 4,
     "metadata": {},
     "output_type": "execute_result"
    }
   ],
   "source": [
    "img = dcm[0]\n",
    "img"
   ]
  },
  {
   "cell_type": "markdown",
   "metadata": {},
   "source": [
    "## HIPAA Guidelines"
   ]
  },
  {
   "cell_type": "markdown",
   "metadata": {},
   "source": [
    "Now, let's recall HIPAA guidelines for what constitutes PHI (also found [here](https://www.law.cornell.edu/cfr/text/45/164.514)):\n",
    "\n",
    ">(A) Names;  \n",
    "(B) All geographic subdivisions smaller than a State, including street address, city, county, precinct, zip code, and their equivalent geocodes, except for the initial three digits of a zip code if, according to the current publicly available data from the Bureau of the Census:  \n",
    "    (1) The geographic unit formed by combining all zip codes with the same three initial digits contains more than 20,000 people; and  \n",
    "    (2) The initial three digits of a zip code for all such geographic units containing 20,000 or fewer people is changed to 000.  \n",
    "(C) All elements of dates (except year) for dates directly related to an individual, including birth date, admission date, discharge date, date of death; and all ages over 89 and all elements of dates (including year) indicative of such age, except that such ages and elements may be aggregated into a single category of age 90 or older;  \n",
    "(D) Telephone numbers;  \n",
    "(E) Fax numbers;  \n",
    "(F) Electronic mail addresses;  \n",
    "(G) Social security numbers;  \n",
    "(H) Medical record numbers;  \n",
    "(I) Health plan beneficiary numbers;  \n",
    "(J) Account numbers;  \n",
    "(K) Certificate/license numbers;  \n",
    "(L) Vehicle identifiers and serial numbers, including license plate numbers;  \n",
    "(M) Device identifiers and serial numbers;  \n",
    "(N) Web Universal Resource Locators (URLs);  \n",
    "(O) Internet Protocol (IP) address numbers;  \n",
    "(P) Biometric identifiers, including finger and voice prints;  \n",
    "(Q) Full face photographic images and any comparable images; and  \n",
    "(R) Any other unique identifying number, characteristic, or code, except as permitted by paragraph (c) of this section; ..."
   ]
  },
  {
   "cell_type": "markdown",
   "metadata": {},
   "source": [
    "Looks quite clear. Let's look at a specific data element. Let's say, Patient Name (0010,0010):"
   ]
  },
  {
   "cell_type": "code",
   "execution_count": 5,
   "metadata": {},
   "outputs": [
    {
     "data": {
      "text/plain": [
       "'Tarapov, Ivan'"
      ]
     },
     "execution_count": 5,
     "metadata": {},
     "output_type": "execute_result"
    }
   ],
   "source": [
    "img.PatientName"
   ]
  },
  {
   "cell_type": "markdown",
   "metadata": {},
   "source": [
    "Ok, this seems clearly falling into category A) above. Let's clean it:"
   ]
  },
  {
   "cell_type": "code",
   "execution_count": 6,
   "metadata": {},
   "outputs": [],
   "source": [
    "img.PatientName = \"Anonymous\""
   ]
  },
  {
   "cell_type": "markdown",
   "metadata": {},
   "source": [
    "Looks quite good, perhaps we should just continue doing this for everything suspicious we find? Let's look at another data element. Let's say, Station Name (0008,1010) - surely looks suspicious:"
   ]
  },
  {
   "cell_type": "code",
   "execution_count": 7,
   "metadata": {},
   "outputs": [
    {
     "data": {
      "text/plain": [
       "(0008, 1010) Station Name                        SH: 'MRC37975'"
      ]
     },
     "execution_count": 7,
     "metadata": {},
     "output_type": "execute_result"
    }
   ],
   "source": [
    "img[(0x0008,0x1010)]"
   ]
  },
  {
   "cell_type": "markdown",
   "metadata": {},
   "source": [
    "Looks like something that might fall into category R) from above. But how do we know for certain? Also, should we put dummy data into this field? Should this data conform to some format? Remember all the DICOM data types?\n",
    "\n",
    "I had mentioned the [online DICOM reference by Innolitics](https://dicom.innolitics.com/ciods) before - it would be of a great help in our case. Let's go over there and check what the standard has to say. We are dealing with MR IOD (Modality tag tells us this), so we are looking for this: https://dicom.innolitics.com/ciods/mr-image/general-equipment/00081010\n",
    "\n",
    "The standard says the following:  \n",
    "*Tag*: (0008,1010)  \n",
    "*Type*: Optional (3)  \n",
    "*Value Representation*: Short String (SH)  \n",
    "*Description*: User defined name identifying the machine that produced the Composite Instances.  \n",
    "\n",
    "Clearly, this looks like something the radiology department uses to identify their machines and we want to clean it to remove the PHI, as defined by HIPAA. \n",
    "\n",
    "Since it's an Optional tag, we can just get rid of it like so:"
   ]
  },
  {
   "cell_type": "code",
   "execution_count": 8,
   "metadata": {},
   "outputs": [],
   "source": [
    "del img.StationName"
   ]
  },
  {
   "cell_type": "markdown",
   "metadata": {},
   "source": [
    "Seems quite clear, right? Well, to be absolutely certain, let's take a look at another tag. In this case, let's look at Accession Number (0008,0050)\n",
    "\n",
    "We are dealing with MR IOD, so we are looking for: https://dicom.innolitics.com/ciods/mr-image/general-study/00080050\n",
    "\n",
    "The standard says the following:  \n",
    "*Tag*: (0008,0050)  \n",
    "*Type*: Required, Empty if Unknown (2)  \n",
    "*Value Representation*: Short String (SH)  \n",
    "*Description*: A RIS generated number that identifies the order for the Study.\n",
    "\n",
    "So, it's a unique ID set by the RIS (remember Radiology Information System - the systems that stores administrative data for radiology department?) to uniquely identify the clinician's order for this study. In other words, a clinican who wants to look up this study would have this number in their medical record system and would try to use it to find the study.\n",
    "\n",
    "Looks like we should keep it as it is required, but we can replace it with something. What can we replace it with? Remember the [value representations](http://dicom.nema.org/medical/dicom/2020a/output/chtml/part05/sect_6.2.html) from one of earlier lessons?  \n",
    "\n",
    "SH, or Short String means 16 characters maximum, with some caveats. So it should be appropriate to replace it with something like \"\" or \"DELETED\", right?  \n",
    "\n",
    "But what if you wanted to retain the ability to distinguish between studies with different accession numbers (e.g. you have other data from the patient visit and you want to be able to relate those)? In that case you could replace it with something like \"MRKNEE1\":"
   ]
  },
  {
   "cell_type": "code",
   "execution_count": 9,
   "metadata": {},
   "outputs": [],
   "source": [
    "img.AccessionNumber = \"MRKNEE1\""
   ]
  },
  {
   "cell_type": "markdown",
   "metadata": {},
   "source": [
    "## DICOM Confidentiality Profiles"
   ]
  },
  {
   "cell_type": "markdown",
   "metadata": {},
   "source": [
    "Seems like we need to make quite a lot of decisions about all these tags. There are also dates and UIDs. What do you do about these? Is there an easier way?  \n",
    "\n",
    "Turns out there is. DICOM standard made anonymization easy for us by defining \"*Attribute Confidentiality Profiles*\". Basically, this is a list of all tags that could contain personal information and a set of guidelines for how to handle them. Attribute Confidentiality profiles are available here: http://dicom.nema.org/medical/dicom/2020a/output/chtml/part15/chapter_E.html\n",
    "\n",
    "If you are building a real DICOM anonymizer, you should really study these guidelines well because they contain a lot of useful information that goes beyond of what we cover in this lesson. For the purpose of this exercise we will use only the most important bits.  \n",
    "\n",
    "If you follow the link above you will find a set of possible operations (and corresponding codes) on tags such as:  \n",
    "\n",
    "D - replace with a non-zero length value that may be a dummy value and consistent with the VR  \n",
    "Z - replace with a zero length value, or a non-zero length value that may be a dummy value and consistent with the VR  \n",
    "X - remove  \n",
    "K - keep (unchanged for non-sequence attributes, cleaned for sequences)  \n",
    "C - clean, that is replace with values of similar meaning known not to contain identifying information and consistent with the VR  \n",
    "U - replace with a non-zero length UID that is internally consistent within a set of Instances  \n",
    "\n",
    "You will also find a long table where rows contain individual tags and colums contain entries for \"Basic Confidentiality Profile\" and then some options. The way this works is that you decide which option suits your need by looking up what all the options mean on [this page of the standard](http://dicom.nema.org/medical/dicom/2020a/output/chtml/part15/sect_E.3.html), look up each tag and see what you are supposed to do with it, taking options into account. Options may be things like the intent to retain longitudinal information with full dates, or the intent to retain device identity. This is very convenient since this way the standard provides a common language to speak about identification. I.e. you may communicate in your release notes (or research protocol) that you perform DICOM anonymization per Basic Profile with \"Clean Descriptiors\" and \"Clean Graphics\" options, and everyone will be able to understand what that means exactly by looking up the respective pages in the standard.  \n",
    "\n",
    "Now, looks like we are well equipped to deal with anonymizing our dataset. Let's give this approach a shot and look at a couple of examples. \n",
    "\n",
    "One thing to mention: further on in this exercise, assume that we are anonymizing everything only per the Basic Profile, with \"Retain UIDs\" option, for the sake of simplicity."
   ]
  },
  {
   "cell_type": "markdown",
   "metadata": {},
   "source": [
    "Let's find out what to do about Age (0010,1010) and Birth Date (0010,0030) which are clearly PHI per HIPAA:"
   ]
  },
  {
   "cell_type": "code",
   "execution_count": 10,
   "metadata": {},
   "outputs": [
    {
     "name": "stdout",
     "output_type": "stream",
     "text": [
      "(0010, 0030) Patient's Birth Date                DA: '19550101'\n",
      "(0010, 1010) Patient's Age                       AS: '070Y'\n"
     ]
    }
   ],
   "source": [
    "print(img[(0x0010,0x0030)])\n",
    "print(img[(0x0010,0x1010)])"
   ]
  },
  {
   "cell_type": "markdown",
   "metadata": {},
   "source": [
    "This is what the profile tells us:"
   ]
  },
  {
   "cell_type": "markdown",
   "metadata": {},
   "source": [
    "<img src=\"anonymization.img/age_ref.png\">"
   ]
  },
  {
   "cell_type": "markdown",
   "metadata": {},
   "source": [
    "X for Patient's age means \"remove\", Z for birth date means \"replace with a zero length value, or a non-zero length value that may be a dummy value and consistent with the VR\".\n",
    "\n",
    "Let's replace the Birth Date with something that is consistent with the underlying VR (Value Representation). [VR for Birth Date is DA](https://dicom.innolitics.com/ciods/mr-image/patient/00100030) which means \"*A string of characters of \n",
    "the format YYYYMMDD; where YYYY shall contain year, MM shall contain the month, and DD shall contain the day, interpreted as a date of the Gregorian calendar system.*\" (per [VR reference](http://dicom.nema.org/medical/dicom/2020a/output/chtml/part05/sect_6.2.html)). So, proper anonymization of these two per Basic Confidentiality Profile could be:"
   ]
  },
  {
   "cell_type": "code",
   "execution_count": 11,
   "metadata": {},
   "outputs": [],
   "source": [
    "if \"PatientAge\" in img:\n",
    "    del img.PatientAge"
   ]
  },
  {
   "cell_type": "code",
   "execution_count": 12,
   "metadata": {},
   "outputs": [],
   "source": [
    "img.PatientBirthDate = \"19500101\""
   ]
  },
  {
   "cell_type": "markdown",
   "metadata": {},
   "source": [
    "At this point I will hand it over to you and have you finish the anonymization process for the dataset.\n",
    "\n",
    "Sometimes you may encounter ambiguities. If you look closer at the list of notes in our Confidentiality profiles page, you fill find this:\n",
    "\n",
    "> The Attributes listed in Table E.1-1 may not be sufficient to guarantee confidentiality of patient identity. In particular, identifying information may be contained in Private Attributes, new Standard Attributes, Retired Standard Attributes and additional Standard Attributes not present in Standard Composite IODs (as defined in PS3.3) but used in Standard Extended SOP Classes. Table E.1-1 indicates those Attributes that are used in Standard Composite IODs as well as those Attributes that are Retired. Also included in Table E.1-1 are some Elements that are not normally found in a Dataset, but are used in Commands, Directories and Meta Information Headers, but that could be misused within Private Sequences. Textual Content Items of Structured Reports, textual annotations of Presentation States, Curves and Overlays are specifically addressed. It is the responsibility of the de-identifier to ensure that all identifying information is removed.\n",
    "\n",
    "\n",
    "Basically, what this is saying that it's on you to ensure that the dataset is compliant with respective regulations. So, as you go through the exercise, if there is something in the dataset that seems like PHI, but is not mentioned by the profile table, you should still deal with it taking HIPAA (or other local regulations) into account."
   ]
  },
  {
   "cell_type": "code",
   "execution_count": 13,
   "metadata": {},
   "outputs": [],
   "source": [
    "# TASK: write a Python function to de-identify this particular image \n",
    "# per the Basic Confidentiality Profile, with \"Retain UIDs\" option\n",
    "\n",
    "# <YOUR CODE HERE>"
   ]
  },
  {
   "cell_type": "code",
   "execution_count": 14,
   "metadata": {},
   "outputs": [],
   "source": [
    "def AnonymizeDICOMDataset(ds):\n",
    "    if (\"InstanceCreationDate\" in ds):\n",
    "        del ds.InstanceCreationDate\n",
    "    if (\"InstanceCreationTime\" in ds):\n",
    "        del ds.InstanceCreationTime\n",
    "        \n",
    "    ds.StudyDate = \"19900101\"\n",
    "    ds.SeriesDate = \"19900101\"\n",
    "    \n",
    "    if (\"AcquisitionDate\" in ds):\n",
    "        del ds.AcquisitionDate\n",
    "    \n",
    "    ds.ContentDate = \"\"\n",
    "    ds.StudyTime = \"\"\n",
    "    \n",
    "    if (\"SeriesTime\" in ds):\n",
    "        del ds.SeriesTime\n",
    "    if (\"AcquisitionTime\" in ds):\n",
    "        del ds.AcquisitionTime\n",
    "    if (\"ContentTime\" in ds):\n",
    "        del ds.ContentTime\n",
    "        \n",
    "    ds.AccessionNumber = \"MRKNEE1\"\n",
    "    \n",
    "    if (\"InstitutionName\" in ds):\n",
    "        del ds.InstitutionName\n",
    "    if (\"InstitutionAddress\" in ds):\n",
    "        del ds.InstitutionAddress\n",
    "    \n",
    "    ds.ReferringPhysicianName = \"\"\n",
    "    \n",
    "    if (\"StudyDescription\" in ds):\n",
    "        del ds.StudyDescription\n",
    "        \n",
    "    if (\"SeriesDescription\" in ds):\n",
    "        del ds.SeriesDescription\n",
    "        \n",
    "    if (\"InstitutionalDepartmentName\" in ds):\n",
    "        del ds.InstitutionalDepartmentName\n",
    "        \n",
    "    if (\"PerformingPhysicianName\" in ds):\n",
    "        del ds.PerformingPhysicianName\n",
    "        \n",
    "    if (\"OperatorsName\" in ds):\n",
    "        del ds.OperatorsName\n",
    "        \n",
    "    ds.PatientName = \"Anonymous\"\n",
    "    ds.PatientID = \"\"\n",
    "    \n",
    "    if (\"IssuerOfPatientID\" in ds):\n",
    "        del ds.IssuerOfPatientID\n",
    "        \n",
    "    ds.PatientBirthDate = \"19500101\"\n",
    "    ds.PatientSex = \"\"\n",
    "    \n",
    "    if (\"StationName\" in ds):\n",
    "        del ds.StationName\n",
    "    \n",
    "    if (\"PatientWeight\" in ds):\n",
    "        del ds.PatientWeight\n",
    "        \n",
    "    ds.ContrastBolusAgent = \"\"\n",
    "    \n",
    "    if (\"DeviceSerialNumber\" in ds):\n",
    "        del ds.DeviceSerialNumber\n",
    "        \n",
    "    ds.StudyID = \"\"\n",
    "    \n",
    "    if (\"PerformedProcedureStepStartDate\" in ds):\n",
    "        del ds.PerformedProcedureStepStartDate\n",
    "        \n",
    "    if (\"PerformedProcedureStepStartTime\" in ds):\n",
    "        del ds.PerformedProcedureStepStartTime\n",
    "        \n",
    "    if (\"PerformedProcedureStepStartID\" in ds):\n",
    "        del ds.PerformedProcedureStepStartID\n",
    "        \n",
    "    return ds"
   ]
  },
  {
   "cell_type": "code",
   "execution_count": 15,
   "metadata": {
    "scrolled": true
   },
   "outputs": [
    {
     "data": {
      "text/plain": [
       "(0008, 0005) Specific Character Set              CS: 'ISO_IR 100'\n",
       "(0008, 0008) Image Type                          CS: ['ORIGINAL', 'PRIMARY', 'M', 'ND']\n",
       "(0008, 0012) Instance Creation Date              DA: '20150116'\n",
       "(0008, 0013) Instance Creation Time              TM: '160254.921000'\n",
       "(0008, 0016) SOP Class UID                       UI: MR Image Storage\n",
       "(0008, 0018) SOP Instance UID                    UI: 1.3.12.2.1107.5.2.33.37105.2015011616025381599128219\n",
       "(0008, 0020) Study Date                          DA: '20150116'\n",
       "(0008, 0021) Series Date                         DA: '20150116'\n",
       "(0008, 0022) Acquisition Date                    DA: '20150116'\n",
       "(0008, 0023) Content Date                        DA: '20150116'\n",
       "(0008, 0030) Study Time                          TM: '154708'\n",
       "(0008, 0031) Series Time                         TM: '160254.859000'\n",
       "(0008, 0032) Acquisition Time                    TM: '160007.545000'\n",
       "(0008, 0033) Content Time                        TM: '160254.921000'\n",
       "(0008, 0050) Accession Number                    SH: 'MRKNEE1'\n",
       "(0008, 0060) Modality                            CS: 'MR'\n",
       "(0008, 0070) Manufacturer                        LO: 'SIEMENS'\n",
       "(0008, 0080) Institution Name                    LO: 'Orthopedic Physicians Associates'\n",
       "(0008, 0081) Institution Address                 ST: 'Street 900  terry ave,-e7dea1-,Seattle,US,98004'\n",
       "(0008, 0090) Referring Physician's Name          PN: 'Kermit^Frog'\n",
       "(0008, 1030) Study Description                   LO: 'LOWER_EXT_LT^KNEE'\n",
       "(0008, 103e) Series Description                  LO: 'sag pd'\n",
       "(0008, 1040) Institutional Department Name       LO: 'Department'\n",
       "(0008, 1050) Performing Physician's Name         PN: ''\n",
       "(0008, 1070) Operators' Name                     PN: 'DL'\n",
       "(0008, 1090) Manufacturer's Model Name           LO: 'SymphonyTim'\n",
       "(0008, 1140)  Referenced Image Sequence   3 item(s) ---- \n",
       "   (0008, 1150) Referenced SOP Class UID            UI: MR Image Storage\n",
       "   (0008, 1155) Referenced SOP Instance UID         UI: 1.3.12.2.1107.5.2.33.37105.2015011615552742739527742\n",
       "   ---------\n",
       "   (0008, 1150) Referenced SOP Class UID            UI: MR Image Storage\n",
       "   (0008, 1155) Referenced SOP Instance UID         UI: 1.3.12.2.1107.5.2.33.37105.2015011615521681905527595\n",
       "   ---------\n",
       "   (0008, 1150) Referenced SOP Class UID            UI: MR Image Storage\n",
       "   (0008, 1155) Referenced SOP Instance UID         UI: 1.3.12.2.1107.5.2.33.37105.2015011615480124474327151\n",
       "   ---------\n",
       "(0009, 0010) Private Creator                     LO: 'SECTRA_Ident_01'\n",
       "(0009, 1001) [Request number]                    LO: 'OPA5311210'\n",
       "(0009, 1002) [Examination number]                LO: '0'\n",
       "(0010, 0010) Patient's Name                      PN: 'Anonymous'\n",
       "(0010, 0020) Patient ID                          LO: 'OPA135179'\n",
       "(0010, 0021) Issuer of Patient ID                LO: '63036410-3E0D-4042-A7A8-7C869C269928'\n",
       "(0010, 0030) Patient's Birth Date                DA: '19500101'\n",
       "(0010, 0040) Patient's Sex                       CS: 'M'\n",
       "(0010, 1030) Patient's Weight                    DS: \"102.0582962325\"\n",
       "(0018, 0010) Contrast/Bolus Agent                LO: 'MAGNEVIST'\n",
       "(0018, 0020) Scanning Sequence                   CS: 'SE'\n",
       "(0018, 0021) Sequence Variant                    CS: ['SK', 'SP', 'OSP']\n",
       "(0018, 0022) Scan Options                        CS: ''\n",
       "(0018, 0023) MR Acquisition Type                 CS: '2D'\n",
       "(0018, 0024) Sequence Name                       SH: '*tse2d1_9'\n",
       "(0018, 0025) Angio Flag                          CS: 'N'\n",
       "(0018, 0050) Slice Thickness                     DS: \"3.0\"\n",
       "(0018, 0080) Repetition Time                     DS: \"3360.0\"\n",
       "(0018, 0081) Echo Time                           DS: \"28.0\"\n",
       "(0018, 0083) Number of Averages                  DS: \"2.0\"\n",
       "(0018, 0084) Imaging Frequency                   DS: \"63.684576\"\n",
       "(0018, 0085) Imaged Nucleus                      SH: '1H'\n",
       "(0018, 0086) Echo Number(s)                      IS: \"1\"\n",
       "(0018, 0087) Magnetic Field Strength             DS: \"1.5\"\n",
       "(0018, 0088) Spacing Between Slices              DS: \"3.0\"\n",
       "(0018, 0089) Number of Phase Encoding Steps      IS: \"432\"\n",
       "(0018, 0091) Echo Train Length                   IS: \"9\"\n",
       "(0018, 0093) Percent Sampling                    DS: \"56.0\"\n",
       "(0018, 0094) Percent Phase Field of View         DS: \"100.0\"\n",
       "(0018, 0095) Pixel Bandwidth                     DS: \"203.0\"\n",
       "(0018, 1000) Device Serial Number                LO: '37105'\n",
       "(0018, 1020) Software Versions                   LO: 'syngo MR B19'\n",
       "(0018, 1030) Protocol Name                       LO: 'sag pd'\n",
       "(0018, 1041) Contrast/Bolus Volume               DS: \"0.0\"\n",
       "(0018, 1044) Contrast/Bolus Total Dose           DS: \"0.0\"\n",
       "(0018, 1048) Contrast/Bolus Ingredient           CS: ''\n",
       "(0018, 1049) Contrast/Bolus Ingredient Concentra DS: \"0.0\"\n",
       "(0018, 1251) Transmit Coil Name                  SH: 'TxRx_15Ch_Knee'\n",
       "(0018, 1310) Acquisition Matrix                  US: [448, 0, 0, 251]\n",
       "(0018, 1312) In-plane Phase Encoding Direction   CS: 'COL'\n",
       "(0018, 1314) Flip Angle                          DS: \"150.0\"\n",
       "(0018, 1315) Variable Flip Angle Flag            CS: 'N'\n",
       "(0018, 1316) SAR                                 DS: \"0.14202974492303\"\n",
       "(0018, 1318) dB/dt                               DS: \"0.0\"\n",
       "(0018, 5100) Patient Position                    CS: 'FFS'\n",
       "(0019, 0010) Private Creator                     LO: 'SIEMENS MR HEADER'\n",
       "(0019, 1008) [CSA Image Header Type]             CS: 'IMAGE NUM 4'\n",
       "(0019, 1009) [CSA Image Header Version ??]       LO: '1.0'\n",
       "(0019, 100b) [SliceMeasurementDuration]          DS: \"158630.0\"\n",
       "(0019, 100f) [GradientMode]                      SH: 'Fast'\n",
       "(0019, 1011) [FlowCompensation]                  SH: 'No'\n",
       "(0019, 1012) [TablePositionOrigin]               SL: [0, 0, -1575]\n",
       "(0019, 1013) [ImaAbsTablePosition]               SL: [0, 0, -1575]\n",
       "(0019, 1014) [ImaRelTablePosition]               IS: [0, 0, 0]\n",
       "(0019, 1015) [SlicePosition_PCS]                 FD: [24.45030424, -131.3506508, 66.1587072]\n",
       "(0019, 1017) [SliceResolution]                   DS: \"1.0\"\n",
       "(0019, 1018) [RealDwellTime]                     IS: \"5500\"\n",
       "(0020, 000d) Study Instance UID                  UI: 1.2.752.24.7.1550985044.2753616\n",
       "(0020, 000e) Series Instance UID                 UI: 1.3.12.2.1107.5.2.33.37105.2015011616025092819028166.0.0.0\n",
       "(0020, 0010) Study ID                            SH: '0'\n",
       "(0020, 0011) Series Number                       IS: \"6\"\n",
       "(0020, 0012) Acquisition Number                  IS: \"1\"\n",
       "(0020, 0013) Instance Number                     IS: \"22\"\n",
       "(0020, 0032) Image Position (Patient)            DS: [24.450304241373, -131.35065080219, 66.158707202253]\n",
       "(0020, 0037) Image Orientation (Patient)         DS: [-0.0430110939711, 0.99771247420803, 0.0521523211862, 0.08149591835913, 0.0555303613113, -0.9951255168387]\n",
       "(0020, 0052) Frame of Reference UID              UI: 1.3.12.2.1107.5.2.33.37105.1.20150116154708828.0.0.0\n",
       "(0020, 1040) Position Reference Indicator        LO: ''\n",
       "(0020, 1041) Slice Location                      DS: \"24.81988856932\"\n",
       "(0028, 0002) Samples per Pixel                   US: 1\n",
       "(0028, 0004) Photometric Interpretation          CS: 'MONOCHROME2'\n",
       "(0028, 0010) Rows                                US: 448\n",
       "(0028, 0011) Columns                             US: 448\n",
       "(0028, 0030) Pixel Spacing                       DS: [0.3348214328289, 0.3348214328289]\n",
       "(0028, 0100) Bits Allocated                      US: 16\n",
       "(0028, 0101) Bits Stored                         US: 12\n",
       "(0028, 0102) High Bit                            US: 11\n",
       "(0028, 0103) Pixel Representation                US: 0\n",
       "(0028, 0106) Smallest Image Pixel Value          US: 0\n",
       "(0028, 0107) Largest Image Pixel Value           US: 3229\n",
       "(0028, 1050) Window Center                       DS: \"1067.0\"\n",
       "(0028, 1051) Window Width                        DS: \"2089.0\"\n",
       "(0028, 1055) Window Center & Width Explanation   LO: 'Algo1'\n",
       "(0029, 0010) Private Creator                     LO: 'SIEMENS CSA HEADER'\n",
       "(0029, 0011) Private Creator                     LO: 'SIEMENS MEDCOM HEADER2'\n",
       "(0029, 1008) [CSA Image Header Type]             CS: 'IMAGE NUM 4'\n",
       "(0029, 1009) [CSA Image Header Version]          LO: '20150116'\n",
       "(0029, 1010) [CSA Image Header Info]             OB: Array of 9456 elements\n",
       "(0029, 1018) [CSA Series Header Type]            CS: 'MR'\n",
       "(0029, 1019) [CSA Series Header Version]         LO: '20150116'\n",
       "(0029, 1020) [CSA Series Header Info]            OB: Array of 82804 elements\n",
       "(0029, 1160) [Series Workflow Status]            LO: 'com'\n",
       "(0040, 0244) Performed Procedure Step Start Date DA: '20150116'\n",
       "(0040, 0245) Performed Procedure Step Start Time TM: '154708.781000'\n",
       "(0040, 0253) Performed Procedure Step ID         SH: '0'\n",
       "(0040, 0275)  Request Attributes Sequence   1 item(s) ---- \n",
       "   (0040, 0009) Scheduled Procedure Step ID         SH: '0'\n",
       "   (0040, 1001) Requested Procedure ID              SH: '0'\n",
       "   ---------\n",
       "(0051, 0010) Private Creator                     LO: 'SIEMENS MR HEADER'\n",
       "(0051, 1008) [CSA Image Header Type]             CS: 'IMAGE NUM 4'\n",
       "(0051, 1009) [CSA Image Header Version ??]       LO: '1.0'\n",
       "(0051, 100a) [Unknown]                           LO: 'TA 02:38'\n",
       "(0051, 100b) [AcquisitionMatrixText]             LO: '251*448s'\n",
       "(0051, 100c) [Unknown]                           LO: 'FoV 150*150'\n",
       "(0051, 100d) [Unknown]                           SH: 'SP L24.8'\n",
       "(0051, 100e) [Unknown]                           LO: 'Sag>Tra(-4.8)>Cor(-2.2)'\n",
       "(0051, 100f) [CoilString]                        LO: 'C:K15'\n",
       "(0051, 1011) [PATModeText]                       LO: 'p2'\n",
       "(0051, 1012) [Unknown]                           SH: 'TP 0'\n",
       "(0051, 1013) [PositivePCSDirections]             SH: '+LPH'\n",
       "(0051, 1015) [Unknown]                           SH: 'E'\n",
       "(0051, 1016) [Unknown]                           LO: 'p2 M/ND'\n",
       "(0051, 1017) [Unknown]                           SH: 'SL 3.0'\n",
       "(0051, 1019) [Unknown]                           LO: 'A2'\n",
       "(7fe0, 0010) Pixel Data                          OW: Array of 401408 elements"
      ]
     },
     "execution_count": 15,
     "metadata": {},
     "output_type": "execute_result"
    }
   ],
   "source": [
    "img"
   ]
  },
  {
   "cell_type": "code",
   "execution_count": 16,
   "metadata": {},
   "outputs": [
    {
     "name": "stdout",
     "output_type": "stream",
     "text": [
      "(0008, 0005) Specific Character Set              CS: 'ISO_IR 100'\n",
      "(0008, 0008) Image Type                          CS: ['ORIGINAL', 'PRIMARY', 'M', 'ND']\n",
      "(0008, 0016) SOP Class UID                       UI: MR Image Storage\n",
      "(0008, 0018) SOP Instance UID                    UI: 1.3.12.2.1107.5.2.33.37105.2015011616025381599128219\n",
      "(0008, 0020) Study Date                          DA: '19900101'\n",
      "(0008, 0021) Series Date                         DA: '19900101'\n",
      "(0008, 0023) Content Date                        DA: ''\n",
      "(0008, 0030) Study Time                          TM: ''\n",
      "(0008, 0050) Accession Number                    SH: 'MRKNEE1'\n",
      "(0008, 0060) Modality                            CS: 'MR'\n",
      "(0008, 0070) Manufacturer                        LO: 'SIEMENS'\n",
      "(0008, 0090) Referring Physician's Name          PN: ''\n",
      "(0008, 1090) Manufacturer's Model Name           LO: 'SymphonyTim'\n",
      "(0008, 1140)  Referenced Image Sequence   3 item(s) ---- \n",
      "   (0008, 1150) Referenced SOP Class UID            UI: MR Image Storage\n",
      "   (0008, 1155) Referenced SOP Instance UID         UI: 1.3.12.2.1107.5.2.33.37105.2015011615552742739527742\n",
      "   ---------\n",
      "   (0008, 1150) Referenced SOP Class UID            UI: MR Image Storage\n",
      "   (0008, 1155) Referenced SOP Instance UID         UI: 1.3.12.2.1107.5.2.33.37105.2015011615521681905527595\n",
      "   ---------\n",
      "   (0008, 1150) Referenced SOP Class UID            UI: MR Image Storage\n",
      "   (0008, 1155) Referenced SOP Instance UID         UI: 1.3.12.2.1107.5.2.33.37105.2015011615480124474327151\n",
      "   ---------\n",
      "(0009, 0010) Private Creator                     LO: 'SECTRA_Ident_01'\n",
      "(0009, 1001) [Request number]                    LO: 'OPA5311210'\n",
      "(0009, 1002) [Examination number]                LO: '0'\n",
      "(0010, 0010) Patient's Name                      PN: 'Anonymous'\n",
      "(0010, 0020) Patient ID                          LO: ''\n",
      "(0010, 0030) Patient's Birth Date                DA: '19500101'\n",
      "(0010, 0040) Patient's Sex                       CS: ''\n",
      "(0018, 0010) Contrast/Bolus Agent                LO: ''\n",
      "(0018, 0020) Scanning Sequence                   CS: 'SE'\n",
      "(0018, 0021) Sequence Variant                    CS: ['SK', 'SP', 'OSP']\n",
      "(0018, 0022) Scan Options                        CS: ''\n",
      "(0018, 0023) MR Acquisition Type                 CS: '2D'\n",
      "(0018, 0024) Sequence Name                       SH: '*tse2d1_9'\n",
      "(0018, 0025) Angio Flag                          CS: 'N'\n",
      "(0018, 0050) Slice Thickness                     DS: \"3.0\"\n",
      "(0018, 0080) Repetition Time                     DS: \"3360.0\"\n",
      "(0018, 0081) Echo Time                           DS: \"28.0\"\n",
      "(0018, 0083) Number of Averages                  DS: \"2.0\"\n",
      "(0018, 0084) Imaging Frequency                   DS: \"63.684576\"\n",
      "(0018, 0085) Imaged Nucleus                      SH: '1H'\n",
      "(0018, 0086) Echo Number(s)                      IS: \"1\"\n",
      "(0018, 0087) Magnetic Field Strength             DS: \"1.5\"\n",
      "(0018, 0088) Spacing Between Slices              DS: \"3.0\"\n",
      "(0018, 0089) Number of Phase Encoding Steps      IS: \"432\"\n",
      "(0018, 0091) Echo Train Length                   IS: \"9\"\n",
      "(0018, 0093) Percent Sampling                    DS: \"56.0\"\n",
      "(0018, 0094) Percent Phase Field of View         DS: \"100.0\"\n",
      "(0018, 0095) Pixel Bandwidth                     DS: \"203.0\"\n",
      "(0018, 1020) Software Versions                   LO: 'syngo MR B19'\n",
      "(0018, 1030) Protocol Name                       LO: 'sag pd'\n",
      "(0018, 1041) Contrast/Bolus Volume               DS: \"0.0\"\n",
      "(0018, 1044) Contrast/Bolus Total Dose           DS: \"0.0\"\n",
      "(0018, 1048) Contrast/Bolus Ingredient           CS: ''\n",
      "(0018, 1049) Contrast/Bolus Ingredient Concentra DS: \"0.0\"\n",
      "(0018, 1251) Transmit Coil Name                  SH: 'TxRx_15Ch_Knee'\n",
      "(0018, 1310) Acquisition Matrix                  US: [448, 0, 0, 251]\n",
      "(0018, 1312) In-plane Phase Encoding Direction   CS: 'COL'\n",
      "(0018, 1314) Flip Angle                          DS: \"150.0\"\n",
      "(0018, 1315) Variable Flip Angle Flag            CS: 'N'\n",
      "(0018, 1316) SAR                                 DS: \"0.14202974492303\"\n",
      "(0018, 1318) dB/dt                               DS: \"0.0\"\n",
      "(0018, 5100) Patient Position                    CS: 'FFS'\n",
      "(0019, 0010) Private Creator                     LO: 'SIEMENS MR HEADER'\n",
      "(0019, 1008) [CSA Image Header Type]             CS: 'IMAGE NUM 4'\n",
      "(0019, 1009) [CSA Image Header Version ??]       LO: '1.0'\n",
      "(0019, 100b) [SliceMeasurementDuration]          DS: \"158630.0\"\n",
      "(0019, 100f) [GradientMode]                      SH: 'Fast'\n",
      "(0019, 1011) [FlowCompensation]                  SH: 'No'\n",
      "(0019, 1012) [TablePositionOrigin]               SL: [0, 0, -1575]\n",
      "(0019, 1013) [ImaAbsTablePosition]               SL: [0, 0, -1575]\n",
      "(0019, 1014) [ImaRelTablePosition]               IS: [0, 0, 0]\n",
      "(0019, 1015) [SlicePosition_PCS]                 FD: [24.45030424, -131.3506508, 66.1587072]\n",
      "(0019, 1017) [SliceResolution]                   DS: \"1.0\"\n",
      "(0019, 1018) [RealDwellTime]                     IS: \"5500\"\n",
      "(0020, 000d) Study Instance UID                  UI: 1.2.752.24.7.1550985044.2753616\n",
      "(0020, 000e) Series Instance UID                 UI: 1.3.12.2.1107.5.2.33.37105.2015011616025092819028166.0.0.0\n",
      "(0020, 0010) Study ID                            SH: ''\n",
      "(0020, 0011) Series Number                       IS: \"6\"\n",
      "(0020, 0012) Acquisition Number                  IS: \"1\"\n",
      "(0020, 0013) Instance Number                     IS: \"22\"\n",
      "(0020, 0032) Image Position (Patient)            DS: [24.450304241373, -131.35065080219, 66.158707202253]\n",
      "(0020, 0037) Image Orientation (Patient)         DS: [-0.0430110939711, 0.99771247420803, 0.0521523211862, 0.08149591835913, 0.0555303613113, -0.9951255168387]\n",
      "(0020, 0052) Frame of Reference UID              UI: 1.3.12.2.1107.5.2.33.37105.1.20150116154708828.0.0.0\n",
      "(0020, 1040) Position Reference Indicator        LO: ''\n",
      "(0020, 1041) Slice Location                      DS: \"24.81988856932\"\n",
      "(0028, 0002) Samples per Pixel                   US: 1\n",
      "(0028, 0004) Photometric Interpretation          CS: 'MONOCHROME2'\n",
      "(0028, 0010) Rows                                US: 448\n",
      "(0028, 0011) Columns                             US: 448\n",
      "(0028, 0030) Pixel Spacing                       DS: [0.3348214328289, 0.3348214328289]\n",
      "(0028, 0100) Bits Allocated                      US: 16\n",
      "(0028, 0101) Bits Stored                         US: 12\n",
      "(0028, 0102) High Bit                            US: 11\n",
      "(0028, 0103) Pixel Representation                US: 0\n",
      "(0028, 0106) Smallest Image Pixel Value          US: 0\n",
      "(0028, 0107) Largest Image Pixel Value           US: 3229\n",
      "(0028, 1050) Window Center                       DS: \"1067.0\"\n",
      "(0028, 1051) Window Width                        DS: \"2089.0\"\n",
      "(0028, 1055) Window Center & Width Explanation   LO: 'Algo1'\n",
      "(0029, 0010) Private Creator                     LO: 'SIEMENS CSA HEADER'\n",
      "(0029, 0011) Private Creator                     LO: 'SIEMENS MEDCOM HEADER2'\n",
      "(0029, 1008) [CSA Image Header Type]             CS: 'IMAGE NUM 4'\n",
      "(0029, 1009) [CSA Image Header Version]          LO: '20150116'\n",
      "(0029, 1010) [CSA Image Header Info]             OB: Array of 9456 elements\n",
      "(0029, 1018) [CSA Series Header Type]            CS: 'MR'\n",
      "(0029, 1019) [CSA Series Header Version]         LO: '20150116'\n",
      "(0029, 1020) [CSA Series Header Info]            OB: Array of 82804 elements\n",
      "(0029, 1160) [Series Workflow Status]            LO: 'com'\n",
      "(0040, 0253) Performed Procedure Step ID         SH: '0'\n",
      "(0040, 0275)  Request Attributes Sequence   1 item(s) ---- \n",
      "   (0040, 0009) Scheduled Procedure Step ID         SH: '0'\n",
      "   (0040, 1001) Requested Procedure ID              SH: '0'\n",
      "   ---------\n",
      "(0051, 0010) Private Creator                     LO: 'SIEMENS MR HEADER'\n",
      "(0051, 1008) [CSA Image Header Type]             CS: 'IMAGE NUM 4'\n",
      "(0051, 1009) [CSA Image Header Version ??]       LO: '1.0'\n",
      "(0051, 100a) [Unknown]                           LO: 'TA 02:38'\n",
      "(0051, 100b) [AcquisitionMatrixText]             LO: '251*448s'\n",
      "(0051, 100c) [Unknown]                           LO: 'FoV 150*150'\n",
      "(0051, 100d) [Unknown]                           SH: 'SP L24.8'\n",
      "(0051, 100e) [Unknown]                           LO: 'Sag>Tra(-4.8)>Cor(-2.2)'\n",
      "(0051, 100f) [CoilString]                        LO: 'C:K15'\n",
      "(0051, 1011) [PATModeText]                       LO: 'p2'\n",
      "(0051, 1012) [Unknown]                           SH: 'TP 0'\n",
      "(0051, 1013) [PositivePCSDirections]             SH: '+LPH'\n",
      "(0051, 1015) [Unknown]                           SH: 'E'\n",
      "(0051, 1016) [Unknown]                           LO: 'p2 M/ND'\n",
      "(0051, 1017) [Unknown]                           SH: 'SL 3.0'\n",
      "(0051, 1019) [Unknown]                           LO: 'A2'\n",
      "(7fe0, 0010) Pixel Data                          OW: Array of 401408 elements\n"
     ]
    }
   ],
   "source": [
    "AnonymizeDICOMDataset(img)\n",
    "print(img)"
   ]
  },
  {
   "cell_type": "markdown",
   "metadata": {},
   "source": [
    "## Private DICOM Tags"
   ]
  },
  {
   "cell_type": "markdown",
   "metadata": {},
   "source": [
    "Now, there is one last thing left. Perhaps, if you've been meticulous, you've noticed tags like the (0019, 1008):"
   ]
  },
  {
   "cell_type": "code",
   "execution_count": 17,
   "metadata": {},
   "outputs": [
    {
     "data": {
      "text/plain": [
       "(0019, 1008) [CSA Image Header Type]             CS: 'IMAGE NUM 4'"
      ]
     },
     "execution_count": 17,
     "metadata": {},
     "output_type": "execute_result"
    }
   ],
   "source": [
    "img[(0x0019,0x1008)]"
   ]
  },
  {
   "cell_type": "markdown",
   "metadata": {},
   "source": [
    "If you try searching it in the [list of DICOM Data Elements](http://dicom.nema.org/medical/dicom/2020a/output/chtml/part06/chapter_6.html) you won't find it there. If you look carefully at these, you might notice that the group ID is an odd number (0019). Such tags are called \"private tags\" and are left up to the manufacturer of the system producing DICOMs to store any information they see relevant. They are not defined by the standard. By the way, if you are producing DICOM from your own AI system, it is perfectly legitimate way to store any relevant information (e.g. a model architecture used or maybe a training dataset ID) this way.  \n",
    "\n"
   ]
  },
  {
   "cell_type": "code",
   "execution_count": 18,
   "metadata": {},
   "outputs": [
    {
     "data": {
      "text/plain": [
       "True"
      ]
     },
     "execution_count": 18,
     "metadata": {},
     "output_type": "execute_result"
    }
   ],
   "source": [
    "img[(0x0019,0x1008)].tag.is_private"
   ]
  },
  {
   "cell_type": "markdown",
   "metadata": {},
   "source": [
    "If you are obtaining the dataset directly from a clinical archive, you might want to take a closer look at those to see if anything in there might be useful. But our Basic Confidentiality profile has this to say about private data elements:"
   ]
  },
  {
   "cell_type": "markdown",
   "metadata": {},
   "source": [
    "<img src=\"anonymization.img/private_attr.png\">"
   ]
  },
  {
   "cell_type": "code",
   "execution_count": 19,
   "metadata": {},
   "outputs": [],
   "source": [
    "# TASK: if you haven't already, extend your function (or write a new one)\n",
    "# to clean up all Private Attributes per the Basic Confidentiality Profile\n",
    "\n",
    "# <YOUR CODE HERE>"
   ]
  },
  {
   "cell_type": "code",
   "execution_count": 20,
   "metadata": {},
   "outputs": [],
   "source": [
    "def StripPrivateTags(ds):\n",
    "    for t in enumerate(ds):\n",
    "        if (t[1].tag.is_private):\n",
    "            del ds[t[1].tag]"
   ]
  },
  {
   "cell_type": "code",
   "execution_count": 21,
   "metadata": {},
   "outputs": [],
   "source": [
    "StripPrivateTags(img)"
   ]
  },
  {
   "cell_type": "markdown",
   "metadata": {},
   "source": [
    "## Saving anonymized data"
   ]
  },
  {
   "cell_type": "markdown",
   "metadata": {},
   "source": [
    "And lastly let's see what we need to do to complete our anonymization per the best practices per the Confidentiality Profiles guidelines. Actually, all this is clearly spelled out in [section E.1.1](http://dicom.nema.org/medical/dicom/2020a/output/chtml/part15/chapter_E.html) of our chapter. What's left for us to be able to claim conformance with the profile are steps 6 and 7:\n",
    "\n",
    "> 6. The attribute Patient Identity Removed (0012,0062) shall be replaced or added to the dataset with a value of YES, and one or more codes from [CID 7050 “De-identification Method”](http://dicom.nema.org/medical/dicom/2020a/output/chtml/part16/sect_CID_7050.html) corresponding to the profile and options used shall be added to De-identification Method Code Sequence (0012,0064). A text string describing the method used may also be inserted in or added to De-identification Method (0012,0063), but is not required. \n",
    "> 7. If the Dataset being de-identified is being stored within a DICOM File, then the File Meta Information including the 128 byte preamble, if present, shall be replaced with a description of the de-identifying application. Otherwise, there is a risk that identity information may leak through unmodified File Meta Information or preamble. See PS3.10.\n",
    "\n",
    "Note that this assumes modifications to the [DICOM Meta Information fields](http://dicom.nema.org/medical/dicom/2020a/output/chtml/part10/chapter_7.html) which includes a 128 byte preample. Note that you can extract the file meta information and preamble using pydicom like so:\n",
    "\n"
   ]
  },
  {
   "cell_type": "code",
   "execution_count": 22,
   "metadata": {
    "scrolled": false
   },
   "outputs": [
    {
     "name": "stdout",
     "output_type": "stream",
     "text": [
      "File Meta: \n",
      "(0002, 0000) File Meta Information Group Length  UL: 218\n",
      "(0002, 0001) File Meta Information Version       OB: b'\\x00\\x01'\n",
      "(0002, 0002) Media Storage SOP Class UID         UI: MR Image Storage\n",
      "(0002, 0003) Media Storage SOP Instance UID      UI: 1.3.12.2.1107.5.2.33.37105.2015011616025381599128219\n",
      "(0002, 0010) Transfer Syntax UID                 UI: Explicit VR Little Endian\n",
      "(0002, 0012) Implementation Class UID            UI: 1.2.840.113654.2.3.1995.2.12.0\n",
      "(0002, 0013) Implementation Version Name         SH: 'MIRCTN16NOV2000'\n",
      "(0002, 0016) Source Application Entity Title     AE: 'DicomBrowser'\n",
      "\n",
      "Preamble: \n",
      "b'\\x00\\x00\\x00\\x00\\x00\\x00\\x00\\x00\\x00\\x00\\x00\\x00\\x00\\x00\\x00\\x00\\x00\\x00\\x00\\x00\\x00\\x00\\x00\\x00\\x00\\x00\\x00\\x00\\x00\\x00\\x00\\x00\\x00\\x00\\x00\\x00\\x00\\x00\\x00\\x00\\x00\\x00\\x00\\x00\\x00\\x00\\x00\\x00\\x00\\x00\\x00\\x00\\x00\\x00\\x00\\x00\\x00\\x00\\x00\\x00\\x00\\x00\\x00\\x00\\x00\\x00\\x00\\x00\\x00\\x00\\x00\\x00\\x00\\x00\\x00\\x00\\x00\\x00\\x00\\x00\\x00\\x00\\x00\\x00\\x00\\x00\\x00\\x00\\x00\\x00\\x00\\x00\\x00\\x00\\x00\\x00\\x00\\x00\\x00\\x00\\x00\\x00\\x00\\x00\\x00\\x00\\x00\\x00\\x00\\x00\\x00\\x00\\x00\\x00\\x00\\x00\\x00\\x00\\x00\\x00\\x00\\x00\\x00\\x00\\x00\\x00\\x00\\x00'\n"
     ]
    }
   ],
   "source": [
    "print(\"File Meta: \")\n",
    "print(img.file_meta)\n",
    "print(\"\\nPreamble: \")\n",
    "print(img.preamble)"
   ]
  },
  {
   "cell_type": "code",
   "execution_count": 23,
   "metadata": {},
   "outputs": [],
   "source": [
    "# TASK: Extend your de-id function (or write new code) with the steps above and save the anonymized image series \n",
    "\n",
    "# <YOUR CODE HERE>"
   ]
  },
  {
   "cell_type": "code",
   "execution_count": 24,
   "metadata": {},
   "outputs": [],
   "source": [
    "# ------- SOLUTION -------------\n",
    "\n",
    "def FillAnonymizationMeta(ds):\n",
    "    # Meta information\n",
    "    \n",
    "    # Preamble needs to be 128 bytes long\n",
    "    preamble_str = b\"Training Anonymizer\"\n",
    "    preamble = bytearray(preamble_str)\n",
    "    preamble.extend([0 for _ in range(0,128-len(preamble_str))])\n",
    "\n",
    "    ds.preamble = preamble\n",
    "    \n",
    "    ds.file_meta.ImplementationVersionName = \"VERSION_1\"\n",
    "    ds.file_meta.SourceApplicationEntityTitle = \"AnonExercise\"\n",
    "    \n",
    "    # De-id stuff\n",
    "\n",
    "    ds.PatientIdentityRemoved = \"YES\"\n",
    "    ds.DeidentificationMethod = \"De-id training exercise\" \n",
    "    \n",
    "    ds.DeidentificationMethodCodeSequence = [pydicom.Dataset()]\n",
    "    ds.DeidentificationMethodCodeSequence[0].CodingSchemeDesignator = \"DCM\"\n",
    "    ds.DeidentificationMethodCodeSequence[0].CodeMeaning = \"Basic Application Confidentiality Profile\"\n",
    "    ds.DeidentificationMethodCodeSequence[0].CodeValue = \"113100\"\n",
    "\n",
    "    ds.DeidentificationMethodCodeSequence += [pydicom.Dataset()]\n",
    "    ds.DeidentificationMethodCodeSequence[1].CodingSchemeDesignator = \"DCM\"\n",
    "    ds.DeidentificationMethodCodeSequence[1].CodeMeaning = \"Retain UIDs Option\"\n",
    "    ds.DeidentificationMethodCodeSequence[1].CodeValue = \"113110\"\n"
   ]
  },
  {
   "cell_type": "code",
   "execution_count": 25,
   "metadata": {},
   "outputs": [],
   "source": [
    "# Do this for all images in series and save them:\n",
    "\n",
    "count = 0\n",
    "for i in dcm:\n",
    "    AnonymizeDICOMDataset(i)\n",
    "    StripPrivateTags(i)\n",
    "    FillAnonymizationMeta(i)\n",
    "    i.save_as(f\"anonymized/{count}.dcm\")\n",
    "    count += 1"
   ]
  },
  {
   "cell_type": "markdown",
   "metadata": {},
   "source": [
    "## Stand out suggestions"
   ]
  },
  {
   "cell_type": "markdown",
   "metadata": {},
   "source": [
    "If you would like to dig a bit deeper into this, some things you can play with are:\n",
    "\n",
    "* Try implementing the profile without the \"Retain UIDs\" option. How would you mangle DICOM UIDs without invalidating DICOM files while maintaining internal consistency?\n",
    "* Try implementing the [\"Retain Longitudinal Temporal Information Option\"](http://dicom.nema.org/medical/dicom/2020a/output/chtml/part15/sect_E.3.6.html). This option declares the approach where temporal information about the dataset is retained. For example, you may be building an AI tool that draws inference from a set of images taken from the same patient over some period of time (also called longitudinal studies). In this case, the temporal relationship between such images becomes important and you can still keep the dataset de-identified per HIPAA while retaining this information"
   ]
  }
 ],
 "metadata": {
  "kernelspec": {
   "display_name": "Python 3",
   "language": "python",
   "name": "python3"
  },
  "language_info": {
   "codemirror_mode": {
    "name": "ipython",
    "version": 3
   },
   "file_extension": ".py",
   "mimetype": "text/x-python",
   "name": "python",
   "nbconvert_exporter": "python",
   "pygments_lexer": "ipython3",
   "version": "3.8.0"
  }
 },
 "nbformat": 4,
 "nbformat_minor": 2
}
